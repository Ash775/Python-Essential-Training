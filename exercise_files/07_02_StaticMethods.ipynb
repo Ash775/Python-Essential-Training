{
 "cells": [
  {
   "cell_type": "code",
   "execution_count": 1,
   "id": "97fab9a0",
   "metadata": {},
   "outputs": [],
   "source": [
    "import math"
   ]
  },
  {
   "cell_type": "markdown",
   "id": "ca340ac5",
   "metadata": {},
   "source": [
    "## Static and Instance Methods"
   ]
  },
  {
   "cell_type": "code",
   "execution_count": 8,
   "id": "2ae8c36c",
   "metadata": {},
   "outputs": [
    {
     "data": {
      "text/plain": [
       "(5.965753859834238, 4.740540018085118)"
      ]
     },
     "execution_count": 8,
     "metadata": {},
     "output_type": "execute_result"
    }
   ],
   "source": [
    "class Orientation:\n",
    "    pi = 3.14\n",
    "    def __init__(self, x_pos, y_pos, degrees):\n",
    "        self.x_pos = x_pos\n",
    "        self.y_pos = y_pos\n",
    "        self.x_dir, self.y_dir = Orientation.getUnitVectorFromDegrees(degrees)\n",
    "        \n",
    "    def getUnitVectorFromDegrees(degrees):\n",
    "        radians = (degrees/180) * Orientation.pi\n",
    "        return math.sin(radians), -math.cos(radians)\n",
    "    \n",
    "    def getNextPos(self):\n",
    "        return self.x_pos + self.x_dir, self.y_pos + self.y_dir\n",
    "    \n",
    "myOrientation = Orientation(5, 5, 75)\n",
    "myOrientation.getNextPos()"
   ]
  },
  {
   "cell_type": "markdown",
   "id": "bec9bbe4",
   "metadata": {},
   "source": [
    "### Decorators "
   ]
  },
  {
   "cell_type": "code",
   "execution_count": 9,
   "id": "f26c1b87",
   "metadata": {},
   "outputs": [
    {
     "data": {
      "text/plain": [
       "(5.965753859834238, 4.740540018085118)"
      ]
     },
     "execution_count": 9,
     "metadata": {},
     "output_type": "execute_result"
    }
   ],
   "source": [
    "class Orientation:\n",
    "    pi = 3.14\n",
    "    def __init__(self, x_pos, y_pos, degrees):\n",
    "        self.x_pos = x_pos\n",
    "        self.y_pos = y_pos\n",
    "        self.x_dir, self.y_dir = self.getUnitVectorFromDegrees(degrees)\n",
    "        \n",
    "    @staticmethod\n",
    "    def getUnitVectorFromDegrees(degrees):\n",
    "        radians = (degrees/180) * Orientation.pi\n",
    "        return math.sin(radians), -math.cos(radians)\n",
    "    \n",
    "    def getNextPos(self):\n",
    "        return self.x_pos + self.x_dir, self.y_pos + self.y_dir\n",
    "    \n",
    "myOrientation = Orientation(5, 5, 75)\n",
    "myOrientation.getNextPos()"
   ]
  },
  {
   "cell_type": "code",
   "execution_count": null,
   "id": "e70dac76",
   "metadata": {},
   "outputs": [],
   "source": []
  }
 ],
 "metadata": {
  "kernelspec": {
   "display_name": "Python 3 (ipykernel)",
   "language": "python",
   "name": "python3"
  },
  "language_info": {
   "codemirror_mode": {
    "name": "ipython",
    "version": 3
   },
   "file_extension": ".py",
   "mimetype": "text/x-python",
   "name": "python",
   "nbconvert_exporter": "python",
   "pygments_lexer": "ipython3",
   "version": "3.10.2"
  }
 },
 "nbformat": 4,
 "nbformat_minor": 5
}
