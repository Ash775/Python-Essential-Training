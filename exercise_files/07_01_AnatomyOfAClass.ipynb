{
 "cells": [
  {
   "cell_type": "markdown",
   "id": "a34c27ca",
   "metadata": {},
   "source": [
    "## Class"
   ]
  },
  {
   "cell_type": "markdown",
   "id": "9254338c",
   "metadata": {},
   "source": [
    "### Instance Attributes"
   ]
  },
  {
   "cell_type": "code",
   "execution_count": 1,
   "id": "fd097c8c",
   "metadata": {},
   "outputs": [
    {
     "name": "stdout",
     "output_type": "stream",
     "text": [
      "Rover\n",
      "4\n"
     ]
    }
   ],
   "source": [
    "class Dog:\n",
    "    def __init__(self, name):\n",
    "        self.name = name\n",
    "        self.legs = 4\n",
    "    \n",
    "    def speak(self):\n",
    "        print(self.name + ' says: Bark!')\n",
    "\n",
    "myDog = Dog('Rover')\n",
    "print(myDog.name)\n",
    "print(myDog.legs)"
   ]
  },
  {
   "cell_type": "code",
   "execution_count": 2,
   "id": "3abfa4a3",
   "metadata": {},
   "outputs": [
    {
     "ename": "AttributeError",
     "evalue": "type object 'Dog' has no attribute 'legs'",
     "output_type": "error",
     "traceback": [
      "\u001b[0;31m---------------------------------------------------------------------------\u001b[0m",
      "\u001b[0;31mAttributeError\u001b[0m                            Traceback (most recent call last)",
      "Input \u001b[0;32mIn [2]\u001b[0m, in \u001b[0;36m<module>\u001b[0;34m\u001b[0m\n\u001b[0;32m----> 1\u001b[0m \u001b[43mDog\u001b[49m\u001b[38;5;241;43m.\u001b[39;49m\u001b[43mlegs\u001b[49m\n",
      "\u001b[0;31mAttributeError\u001b[0m: type object 'Dog' has no attribute 'legs'"
     ]
    }
   ],
   "source": [
    "Dog.legs"
   ]
  },
  {
   "cell_type": "markdown",
   "id": "910762e2",
   "metadata": {},
   "source": [
    "### Static Attributes"
   ]
  },
  {
   "cell_type": "code",
   "execution_count": 3,
   "id": "d99d3ce6",
   "metadata": {},
   "outputs": [
    {
     "name": "stdout",
     "output_type": "stream",
     "text": [
      "Rover\n",
      "4\n"
     ]
    }
   ],
   "source": [
    "class Dog:\n",
    "    legs = 4\n",
    "    def __init__(self, name):\n",
    "        self.name = name\n",
    "    \n",
    "    def speak(self):\n",
    "        print(self.name + ' says: Bark!')\n",
    "\n",
    "myDog = Dog('Rover')\n",
    "print(myDog.name)\n",
    "print(myDog.legs)"
   ]
  },
  {
   "cell_type": "code",
   "execution_count": 4,
   "id": "10d39f55",
   "metadata": {},
   "outputs": [
    {
     "data": {
      "text/plain": [
       "4"
      ]
     },
     "execution_count": 4,
     "metadata": {},
     "output_type": "execute_result"
    }
   ],
   "source": [
    "Dog.legs"
   ]
  },
  {
   "cell_type": "code",
   "execution_count": 5,
   "id": "6c0e3e22",
   "metadata": {},
   "outputs": [],
   "source": [
    "Dog.legs = 3"
   ]
  },
  {
   "cell_type": "code",
   "execution_count": 6,
   "id": "c6358449",
   "metadata": {},
   "outputs": [
    {
     "name": "stdout",
     "output_type": "stream",
     "text": [
      "Rover\n",
      "3\n"
     ]
    }
   ],
   "source": [
    "myDog = Dog('Rover')\n",
    "print(myDog.name)\n",
    "print(myDog.legs)"
   ]
  },
  {
   "cell_type": "code",
   "execution_count": 11,
   "id": "f242ba14",
   "metadata": {},
   "outputs": [
    {
     "name": "stdout",
     "output_type": "stream",
     "text": [
      "Rover\n",
      "4\n"
     ]
    }
   ],
   "source": [
    "class Dog:\n",
    "    _legs = 4\n",
    "    def __init__(self, name):\n",
    "        self.name = name\n",
    "        \n",
    "    def getLegs(self):\n",
    "        return self._legs\n",
    "    \n",
    "    def speak(self):\n",
    "        print(self.name + ' says: Bark!')\n",
    "\n",
    "myDog = Dog('Rover')\n",
    "print(myDog.name)\n",
    "print(myDog.getLegs())"
   ]
  },
  {
   "cell_type": "code",
   "execution_count": 12,
   "id": "b914c567",
   "metadata": {},
   "outputs": [
    {
     "name": "stdout",
     "output_type": "stream",
     "text": [
      "Rover\n",
      "3\n",
      "4\n"
     ]
    }
   ],
   "source": [
    "myDog = Dog('Rover')\n",
    "myDog._legs = 3\n",
    "print(myDog.name)\n",
    "print(myDog.getLegs())\n",
    "print(Dog._legs)"
   ]
  },
  {
   "cell_type": "code",
   "execution_count": null,
   "id": "e7eb5e63",
   "metadata": {},
   "outputs": [],
   "source": []
  }
 ],
 "metadata": {
  "kernelspec": {
   "display_name": "Python 3 (ipykernel)",
   "language": "python",
   "name": "python3"
  },
  "language_info": {
   "codemirror_mode": {
    "name": "ipython",
    "version": 3
   },
   "file_extension": ".py",
   "mimetype": "text/x-python",
   "name": "python",
   "nbconvert_exporter": "python",
   "pygments_lexer": "ipython3",
   "version": "3.10.2"
  }
 },
 "nbformat": 4,
 "nbformat_minor": 5
}
