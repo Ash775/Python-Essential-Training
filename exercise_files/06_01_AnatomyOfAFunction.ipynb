{
 "cells": [
  {
   "cell_type": "code",
   "execution_count": 13,
   "id": "b2f1bf7d",
   "metadata": {},
   "outputs": [],
   "source": [
    "import math"
   ]
  },
  {
   "cell_type": "markdown",
   "id": "e641afae",
   "metadata": {},
   "source": [
    "## Functions"
   ]
  },
  {
   "cell_type": "code",
   "execution_count": 1,
   "id": "5df05257",
   "metadata": {},
   "outputs": [
    {
     "data": {
      "text/plain": [
       "5"
      ]
     },
     "execution_count": 1,
     "metadata": {},
     "output_type": "execute_result"
    }
   ],
   "source": [
    "def performOperation(num1, num2, operation):\n",
    "    if operation == 'sum':\n",
    "        return num1 + num2\n",
    "    if operation == 'multiply':\n",
    "        return num1 * num2\n",
    "    \n",
    "performOperation(2, 3, 'sum')"
   ]
  },
  {
   "cell_type": "code",
   "execution_count": null,
   "id": "4f53e2d0",
   "metadata": {},
   "outputs": [],
   "source": []
  },
  {
   "cell_type": "markdown",
   "id": "c5a6d86b",
   "metadata": {},
   "source": [
    "### Named Parameters"
   ]
  },
  {
   "cell_type": "code",
   "execution_count": 2,
   "id": "4ebd385a",
   "metadata": {},
   "outputs": [
    {
     "data": {
      "text/plain": [
       "5"
      ]
     },
     "execution_count": 2,
     "metadata": {},
     "output_type": "execute_result"
    }
   ],
   "source": [
    "def performOperation(num1, num2, operation='sum'):\n",
    "    if operation == 'sum':\n",
    "        return num1 + num2\n",
    "    if operation == 'multiply':\n",
    "        return num1 * num2\n",
    "    \n",
    "performOperation(2, 3)"
   ]
  },
  {
   "cell_type": "code",
   "execution_count": 7,
   "id": "2e45e600",
   "metadata": {},
   "outputs": [
    {
     "name": "stdout",
     "output_type": "stream",
     "text": [
      "A new message!\n"
     ]
    },
    {
     "data": {
      "text/plain": [
       "6"
      ]
     },
     "execution_count": 7,
     "metadata": {},
     "output_type": "execute_result"
    }
   ],
   "source": [
    "def performOperation(num1, num2, operation='sum', message='Default message'):\n",
    "    print(message)\n",
    "    if operation == 'sum':\n",
    "        return num1 + num2\n",
    "    if operation == 'multiply':\n",
    "        return num1 * num2\n",
    "    \n",
    "performOperation(2, 3, message='A new message!', operation='multiply')"
   ]
  },
  {
   "cell_type": "markdown",
   "id": "d7fa32cd",
   "metadata": {},
   "source": [
    "### *args"
   ]
  },
  {
   "cell_type": "code",
   "execution_count": 9,
   "id": "a958ca8f",
   "metadata": {},
   "outputs": [
    {
     "name": "stdout",
     "output_type": "stream",
     "text": [
      "(1, 2, 3)\n"
     ]
    }
   ],
   "source": [
    "def performOperation(*args):\n",
    "    print(args)\n",
    "    \n",
    "performOperation(1,2,3)"
   ]
  },
  {
   "cell_type": "code",
   "execution_count": 10,
   "id": "64d83230",
   "metadata": {},
   "outputs": [
    {
     "ename": "TypeError",
     "evalue": "performOperation() got an unexpected keyword argument 'operation'",
     "output_type": "error",
     "traceback": [
      "\u001b[0;31m---------------------------------------------------------------------------\u001b[0m",
      "\u001b[0;31mTypeError\u001b[0m                                 Traceback (most recent call last)",
      "Input \u001b[0;32mIn [10]\u001b[0m, in \u001b[0;36m<module>\u001b[0;34m\u001b[0m\n\u001b[0;32m----> 1\u001b[0m \u001b[43mperformOperation\u001b[49m\u001b[43m(\u001b[49m\u001b[38;5;241;43m1\u001b[39;49m\u001b[43m,\u001b[49m\u001b[38;5;241;43m2\u001b[39;49m\u001b[43m,\u001b[49m\u001b[38;5;241;43m3\u001b[39;49m\u001b[43m,\u001b[49m\u001b[43m \u001b[49m\u001b[43moperation\u001b[49m\u001b[38;5;241;43m=\u001b[39;49m\u001b[38;5;124;43m'\u001b[39;49m\u001b[38;5;124;43msum\u001b[39;49m\u001b[38;5;124;43m'\u001b[39;49m\u001b[43m)\u001b[49m\n",
      "\u001b[0;31mTypeError\u001b[0m: performOperation() got an unexpected keyword argument 'operation'"
     ]
    }
   ],
   "source": [
    "performOperation(1,2,3, operation='sum')"
   ]
  },
  {
   "cell_type": "markdown",
   "id": "27d94525",
   "metadata": {},
   "source": [
    "### **kwargs"
   ]
  },
  {
   "cell_type": "code",
   "execution_count": 12,
   "id": "a7359d98",
   "metadata": {},
   "outputs": [
    {
     "name": "stdout",
     "output_type": "stream",
     "text": [
      "(1, 2, 3)\n",
      "{'operation': 'sum'}\n"
     ]
    }
   ],
   "source": [
    "def performOperation(*args, **kwargs):\n",
    "    print(args)\n",
    "    print(kwargs)\n",
    "performOperation(1,2,3, operation='sum')"
   ]
  },
  {
   "cell_type": "code",
   "execution_count": 16,
   "id": "92a644aa",
   "metadata": {},
   "outputs": [
    {
     "data": {
      "text/plain": [
       "27"
      ]
     },
     "execution_count": 16,
     "metadata": {},
     "output_type": "execute_result"
    }
   ],
   "source": [
    "def performOperation(*args, operation='sum'):\n",
    "    if operation == 'sum':\n",
    "        return sum(args)\n",
    "    if operation == 'multiply':\n",
    "        return math.prod(args)\n",
    "    \n",
    "performOperation(1,2,3,6, 7, 8, operation='sum')"
   ]
  },
  {
   "cell_type": "code",
   "execution_count": null,
   "id": "57cd4de0",
   "metadata": {},
   "outputs": [],
   "source": []
  }
 ],
 "metadata": {
  "kernelspec": {
   "display_name": "Python 3 (ipykernel)",
   "language": "python",
   "name": "python3"
  },
  "language_info": {
   "codemirror_mode": {
    "name": "ipython",
    "version": 3
   },
   "file_extension": ".py",
   "mimetype": "text/x-python",
   "name": "python",
   "nbconvert_exporter": "python",
   "pygments_lexer": "ipython3",
   "version": "3.10.2"
  }
 },
 "nbformat": 4,
 "nbformat_minor": 5
}
