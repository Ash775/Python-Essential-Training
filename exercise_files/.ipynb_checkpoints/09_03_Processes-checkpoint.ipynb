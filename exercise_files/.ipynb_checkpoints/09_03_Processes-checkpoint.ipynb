{
 "cells": [
  {
   "cell_type": "code",
   "execution_count": 66,
   "id": "efb27ade",
   "metadata": {},
   "outputs": [],
   "source": [
    "from multiprocess import Process\n",
    "import threading\n",
    "import time"
   ]
  },
  {
   "cell_type": "markdown",
   "id": "8935e418",
   "metadata": {},
   "source": [
    "## Processes"
   ]
  },
  {
   "cell_type": "code",
   "execution_count": 72,
   "id": "64198686",
   "metadata": {},
   "outputs": [
    {
     "name": "stdout",
     "output_type": "stream",
     "text": [
      "1\n",
      "Finished computing 1 squared!4\n",
      "\n",
      "Finished computing 2 squared!\n"
     ]
    }
   ],
   "source": [
    "def longSquare(num, results):\n",
    "    time.sleep(1)\n",
    "    results[num] = num**2\n",
    "    print(num**2)\n",
    "    print(f'Finished computing {num} squared!')\n",
    "\n",
    "\n",
    "results = {}\n",
    "\n",
    "p1 = Process(target=longSquare, args=(1, results))\n",
    "p2 = Process(target=longSquare, args=(2, results))\n",
    "\n",
    "p1.start()\n",
    "p2.start()\n",
    "p1.join()\n",
    "p2.join()\n"
   ]
  },
  {
   "cell_type": "code",
   "execution_count": 74,
   "id": "61d5c310",
   "metadata": {},
   "outputs": [
    {
     "name": "stdout",
     "output_type": "stream",
     "text": [
      "01\n",
      "Finished computing 0 squared!4\n",
      "9\n",
      "Finished computing 1 squared!\n",
      "\n",
      "16Finished computing 3 squared!25Finished computing 2 squared!\n",
      "\n",
      "36\n",
      "\n",
      "\n",
      "49Finished computing 4 squared!\n",
      "6481Finished computing 5 squared!\n",
      "\n",
      "\n",
      "Finished computing 6 squared!Finished computing 9 squared!\n",
      "Finished computing 7 squared!\n",
      "\n",
      "Finished computing 8 squared!\n",
      "\n",
      "\n"
     ]
    },
    {
     "data": {
      "text/plain": [
       "[None, None, None, None, None, None, None, None, None, None]"
      ]
     },
     "execution_count": 74,
     "metadata": {},
     "output_type": "execute_result"
    }
   ],
   "source": [
    "def longSquare(num):\n",
    "    print(num**2)\n",
    "    print(f'Finished computing {num} squared!')\n",
    "processes = [Process(target=longSquare, args=(n,)) for n in range(0, 10)]\n",
    "[p.start() for p in processes]\n",
    "[p.join() for p in processes]"
   ]
  },
  {
   "cell_type": "code",
   "execution_count": 75,
   "id": "59125cc7",
   "metadata": {},
   "outputs": [
    {
     "name": "stdout",
     "output_type": "stream",
     "text": [
      "0\n",
      "Finished computing 0 squared!\n",
      "14\n",
      "\n",
      "Finished computing 2 squared!\n",
      "9\n",
      "Finished computing 3 squared!\n",
      "Finished computing 1 squared!\n",
      "16\n",
      "Finished computing 4 squared!\n",
      "2536\n",
      "Finished computing 5 squared!\n",
      "49\n",
      "\n",
      "Finished computing 7 squared!\n",
      "Finished computing 6 squared!\n",
      "64\n",
      "Finished computing 8 squared!\n",
      "81\n",
      "Finished computing 9 squared!\n"
     ]
    },
    {
     "data": {
      "text/plain": [
       "[None, None, None, None, None, None, None, None, None, None]"
      ]
     },
     "execution_count": 75,
     "metadata": {},
     "output_type": "execute_result"
    }
   ],
   "source": [
    "threads = [threading.Thread(target=longSquare, args=(n,)) for n in range(0, 10)]\n",
    "[t.start() for t in threads]\n",
    "[t.join() for t in threads]"
   ]
  },
  {
   "cell_type": "code",
   "execution_count": null,
   "id": "241a1b54",
   "metadata": {},
   "outputs": [],
   "source": []
  }
 ],
 "metadata": {
  "kernelspec": {
   "display_name": "Python 3 (ipykernel)",
   "language": "python",
   "name": "python3"
  },
  "language_info": {
   "codemirror_mode": {
    "name": "ipython",
    "version": 3
   },
   "file_extension": ".py",
   "mimetype": "text/x-python",
   "name": "python",
   "nbconvert_exporter": "python",
   "pygments_lexer": "ipython3",
   "version": "3.10.2"
  }
 },
 "nbformat": 4,
 "nbformat_minor": 5
}
