{
 "cells": [
  {
   "cell_type": "markdown",
   "id": "eb3572f3",
   "metadata": {},
   "source": [
    "## If statements with \"FizzBuzz\""
   ]
  },
  {
   "cell_type": "code",
   "execution_count": null,
   "id": "9816da2b",
   "metadata": {},
   "outputs": [],
   "source": [
    "# 1, 2, Fizz, 4, Buzz, Fizz, 7, 8, Fizz, 9, Buzz, 11, Fizz, 13 14, FizzBuzz\n",
    "\n"
   ]
  },
  {
   "cell_type": "markdown",
   "id": "e935bb69",
   "metadata": {},
   "source": [
    "### Else statements"
   ]
  },
  {
   "cell_type": "code",
   "execution_count": null,
   "id": "f6d0a515",
   "metadata": {},
   "outputs": [],
   "source": []
  },
  {
   "cell_type": "markdown",
   "id": "b196aa6c",
   "metadata": {},
   "source": [
    "### Elif statements"
   ]
  },
  {
   "cell_type": "code",
   "execution_count": null,
   "id": "39fa2269",
   "metadata": {},
   "outputs": [],
   "source": []
  },
  {
   "cell_type": "markdown",
   "id": "bfb49426",
   "metadata": {},
   "source": [
    "### Single Line if statements"
   ]
  },
  {
   "cell_type": "code",
   "execution_count": null,
   "id": "c5c4b674",
   "metadata": {},
   "outputs": [],
   "source": []
  }
 ],
 "metadata": {
  "kernelspec": {
   "display_name": "Python 3 (ipykernel)",
   "language": "python",
   "name": "python3"
  },
  "language_info": {
   "codemirror_mode": {
    "name": "ipython",
    "version": 3
   },
   "file_extension": ".py",
   "mimetype": "text/x-python",
   "name": "python",
   "nbconvert_exporter": "python",
   "pygments_lexer": "ipython3",
   "version": "3.10.2"
  }
 },
 "nbformat": 4,
 "nbformat_minor": 5
}
