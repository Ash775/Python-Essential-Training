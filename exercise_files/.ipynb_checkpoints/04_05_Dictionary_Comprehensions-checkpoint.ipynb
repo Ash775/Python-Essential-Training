{
 "cells": [
  {
   "cell_type": "markdown",
   "id": "d86a6d06",
   "metadata": {},
   "source": [
    "## Dictionary Comprehensions"
   ]
  },
  {
   "cell_type": "code",
   "execution_count": null,
   "id": "92d3299d",
   "metadata": {},
   "outputs": [],
   "source": [
    "animalList = [('a', 'aardvark'), ('b', 'bear'), ('c', 'cat'), ('d', 'dog')]\n"
   ]
  }
 ],
 "metadata": {
  "kernelspec": {
   "display_name": "Python 3 (ipykernel)",
   "language": "python",
   "name": "python3"
  },
  "language_info": {
   "codemirror_mode": {
    "name": "ipython",
    "version": 3
   },
   "file_extension": ".py",
   "mimetype": "text/x-python",
   "name": "python",
   "nbconvert_exporter": "python",
   "pygments_lexer": "ipython3",
   "version": "3.10.2"
  }
 },
 "nbformat": 4,
 "nbformat_minor": 5
}
