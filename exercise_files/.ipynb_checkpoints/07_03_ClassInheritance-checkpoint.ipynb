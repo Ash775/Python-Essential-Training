{
 "cells": [
  {
   "cell_type": "markdown",
   "id": "3ca28428",
   "metadata": {},
   "source": [
    "## Class Inheritance"
   ]
  },
  {
   "cell_type": "code",
   "execution_count": 6,
   "id": "06ce42b1",
   "metadata": {},
   "outputs": [],
   "source": [
    "class Dog:\n",
    "    _legs = 4\n",
    "    def __init__(self, name):\n",
    "        self.name = name\n",
    "\n",
    "    def speak(self):\n",
    "        print(self.name + ' says: Bark!')\n",
    "    \n",
    "    def getLegs(self):\n",
    "        return self._legs\n",
    "\n",
    "\n",
    "class Chihuahua(Dog):\n",
    "    def speak(self):\n",
    "        print(f'{self.name} says: Yap yap yap!')\n",
    "        \n",
    "    def wagTail(self):\n",
    "        print('Vigorous wagging!')\n"
   ]
  },
  {
   "cell_type": "code",
   "execution_count": 7,
   "id": "dd5dd985",
   "metadata": {},
   "outputs": [
    {
     "name": "stdout",
     "output_type": "stream",
     "text": [
      "Roxy says: Yap yap yap!\n",
      "Vigorous wagging!\n"
     ]
    }
   ],
   "source": [
    "dog = Chihuahua('Roxy')\n",
    "dog.speak()\n",
    "dog.wagTail()"
   ]
  },
  {
   "cell_type": "code",
   "execution_count": 5,
   "id": "9f367505",
   "metadata": {},
   "outputs": [
    {
     "name": "stdout",
     "output_type": "stream",
     "text": [
      "Rover says: Bark!\n"
     ]
    }
   ],
   "source": [
    "myDog = Dog('Rover')\n",
    "myDog.speak()"
   ]
  },
  {
   "cell_type": "markdown",
   "id": "fb776450",
   "metadata": {},
   "source": [
    "### Extending built-in classes"
   ]
  },
  {
   "cell_type": "code",
   "execution_count": 8,
   "id": "352c540a",
   "metadata": {},
   "outputs": [],
   "source": [
    "myList = list()"
   ]
  },
  {
   "cell_type": "code",
   "execution_count": 9,
   "id": "fcf877f7",
   "metadata": {},
   "outputs": [
    {
     "name": "stdout",
     "output_type": "stream",
     "text": [
      "[1, 2]\n"
     ]
    }
   ],
   "source": [
    "class UniqueList(list):\n",
    "    def append(self, item):\n",
    "        if item in self:\n",
    "            return\n",
    "        super().append(item)\n",
    "        \n",
    "uniqueList = UniqueList()\n",
    "uniqueList.append(1)\n",
    "uniqueList.append(1)\n",
    "uniqueList.append(2)\n",
    "\n",
    "print(uniqueList)"
   ]
  },
  {
   "cell_type": "code",
   "execution_count": 10,
   "id": "e6ec6f25",
   "metadata": {},
   "outputs": [
    {
     "name": "stdout",
     "output_type": "stream",
     "text": [
      "Unique List!\n"
     ]
    }
   ],
   "source": [
    "class UniqueList(list):\n",
    "    \n",
    "    def __init__(self):\n",
    "        super().__init__()\n",
    "        self.someProperty = 'Unique List!'\n",
    "        \n",
    "\n",
    "    def append(self, item):\n",
    "        if item in self:\n",
    "            return\n",
    "        super().append(item)\n",
    "        \n",
    "uniqueList = UniqueList()\n",
    "uniqueList.append(1)\n",
    "uniqueList.append(1)\n",
    "uniqueList.append(2)\n",
    "\n",
    "print(uniqueList.someProperty)"
   ]
  },
  {
   "cell_type": "code",
   "execution_count": null,
   "id": "6ea4c632",
   "metadata": {},
   "outputs": [],
   "source": []
  }
 ],
 "metadata": {
  "kernelspec": {
   "display_name": "Python 3 (ipykernel)",
   "language": "python",
   "name": "python3"
  },
  "language_info": {
   "codemirror_mode": {
    "name": "ipython",
    "version": 3
   },
   "file_extension": ".py",
   "mimetype": "text/x-python",
   "name": "python",
   "nbconvert_exporter": "python",
   "pygments_lexer": "ipython3",
   "version": "3.10.2"
  }
 },
 "nbformat": 4,
 "nbformat_minor": 5
}
