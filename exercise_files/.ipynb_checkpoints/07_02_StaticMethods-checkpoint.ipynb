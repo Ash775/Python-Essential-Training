{
 "cells": [
  {
   "cell_type": "code",
   "execution_count": 1,
   "id": "9bd8b4ad",
   "metadata": {},
   "outputs": [],
   "source": [
    "import math"
   ]
  },
  {
   "cell_type": "markdown",
   "id": "25307c3f",
   "metadata": {},
   "source": [
    "## Static Methods"
   ]
  },
  {
   "cell_type": "code",
   "execution_count": 8,
   "id": "8bccafd4",
   "metadata": {},
   "outputs": [],
   "source": [
    "class Orientation:\n",
    "    pi = 3.14\n",
    "    def __init__(self, x_pos, y_pos, degrees):\n",
    "        self.x_pos = x_pos\n",
    "        self.y_pos = y_pos\n",
    "        self.x_dir, self.y_dir = Orientation.getUnitVectorFromDegrees(degrees)\n",
    "        \n",
    "    def getUnitVectorFromDegrees(degrees):\n",
    "        radians = (degrees/180) * Orientation.pi\n",
    "        return math.sin(radians), -math.cos(radians)\n",
    "    \n",
    "    def getNextPos(self):\n",
    "        return self.x_pos + self.x_dir, self.y_pos + self.y_dir\n",
    "    \n"
   ]
  },
  {
   "cell_type": "code",
   "execution_count": 9,
   "id": "a8c51fb5",
   "metadata": {},
   "outputs": [
    {
     "data": {
      "text/plain": [
       "(5.965925826289069, 4.741180954897479)"
      ]
     },
     "execution_count": 9,
     "metadata": {},
     "output_type": "execute_result"
    }
   ],
   "source": [
    "myOrientation = Orientation(5, 5, 75)\n",
    "myOrientation.getNextPos()"
   ]
  },
  {
   "cell_type": "code",
   "execution_count": null,
   "id": "0de75dc5",
   "metadata": {},
   "outputs": [],
   "source": []
  }
 ],
 "metadata": {
  "kernelspec": {
   "display_name": "Python 3 (ipykernel)",
   "language": "python",
   "name": "python3"
  },
  "language_info": {
   "codemirror_mode": {
    "name": "ipython",
    "version": 3
   },
   "file_extension": ".py",
   "mimetype": "text/x-python",
   "name": "python",
   "nbconvert_exporter": "python",
   "pygments_lexer": "ipython3",
   "version": "3.10.2"
  }
 },
 "nbformat": 4,
 "nbformat_minor": 5
}
