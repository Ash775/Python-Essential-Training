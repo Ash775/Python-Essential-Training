{
 "cells": [
  {
   "cell_type": "code",
   "execution_count": 1,
   "id": "48a15793",
   "metadata": {
    "scrolled": true
   },
   "outputs": [],
   "source": [
    "import threading\n",
    "import time"
   ]
  },
  {
   "cell_type": "markdown",
   "id": "5be113b0",
   "metadata": {},
   "source": [
    "## Threads"
   ]
  },
  {
   "cell_type": "code",
   "execution_count": 2,
   "id": "230c796a",
   "metadata": {
    "scrolled": true
   },
   "outputs": [
    {
     "data": {
      "text/plain": [
       "[0, 1, 4, 9, 16]"
      ]
     },
     "execution_count": 2,
     "metadata": {},
     "output_type": "execute_result"
    }
   ],
   "source": [
    "def longSquare(num):\n",
    "    time.sleep(1)\n",
    "    return num**2\n",
    "\n",
    "[longSquare(n) for n in range(0, 5)]\n"
   ]
  },
  {
   "cell_type": "code",
   "execution_count": 3,
   "id": "f105891d",
   "metadata": {},
   "outputs": [],
   "source": [
    "t1 = threading.Thread(target=longSquare, args=(1,))\n",
    "t2 = threading.Thread(target=longSquare, args=(2,))\n",
    "\n",
    "t1.start()\n",
    "t2.start()\n",
    "\n",
    "t1.join()\n",
    "t2.join()\n"
   ]
  },
  {
   "cell_type": "code",
   "execution_count": 4,
   "id": "5be33021",
   "metadata": {},
   "outputs": [
    {
     "name": "stdout",
     "output_type": "stream",
     "text": [
      "{2: 4, 1: 1}\n"
     ]
    }
   ],
   "source": [
    "\n",
    "\n",
    "def longSquare(num, results):\n",
    "    time.sleep(1)\n",
    "    results[num] = num**2\n",
    "\n",
    "results = {}\n",
    "t1 = threading.Thread(target=longSquare, args=(1,results))\n",
    "t2 = threading.Thread(target=longSquare, args=(2,results))\n",
    "\n",
    "t1.start()\n",
    "t2.start()\n",
    "\n",
    "t1.join()\n",
    "t2.join()\n",
    "\n",
    "print(results)\n"
   ]
  },
  {
   "cell_type": "code",
   "execution_count": 6,
   "id": "6f9a6201",
   "metadata": {},
   "outputs": [
    {
     "name": "stdout",
     "output_type": "stream",
     "text": [
      "{2: 4, 1: 1, 0: 0, 8: 64, 9: 81, 16: 256, 17: 289, 19: 361, 30: 900, 25: 625, 28: 784, 29: 841, 3: 9, 13: 169, 15: 225, 21: 441, 22: 484, 4: 16, 14: 196, 6: 36, 20: 400, 39: 1521, 40: 1600, 5: 25, 42: 1764, 43: 1849, 44: 1936, 45: 2025, 47: 2209, 7: 49, 38: 1444, 37: 1369, 32: 1024, 41: 1681, 46: 2116, 10: 100, 11: 121, 12: 144, 18: 324, 33: 1089, 23: 529, 70: 4900, 75: 5625, 82: 6724, 85: 7225, 86: 7396, 91: 8281, 92: 8464, 94: 8836, 95: 9025, 96: 9216, 97: 9409, 98: 9604, 99: 9801, 63: 3969, 81: 6561, 26: 676, 35: 1225, 36: 1296, 49: 2401, 50: 2500, 51: 2601, 52: 2704, 53: 2809, 60: 3600, 66: 4356, 74: 5476, 77: 5929, 79: 6241, 83: 6889, 84: 7056, 87: 7569, 93: 8649, 24: 576, 27: 729, 64: 4096, 61: 3721, 65: 4225, 69: 4761, 73: 5329, 78: 6084, 90: 8100, 62: 3844, 31: 961, 34: 1156, 67: 4489, 68: 4624, 80: 6400, 88: 7744, 89: 7921, 48: 2304, 57: 3249, 71: 5041, 72: 5184, 76: 5776, 54: 2916, 56: 3136, 55: 3025, 58: 3364, 59: 3481}\n"
     ]
    }
   ],
   "source": [
    "\n",
    "\n",
    "def longSquare(num, results):\n",
    "    time.sleep(1)\n",
    "    results[num] = num**2\n",
    "\n",
    "results = {}\n",
    "threads = [threading.Thread(target=longSquare, args=(n, results)) for n in range(0, 100)]\n",
    "[t.start() for t in threads]\n",
    "[t.join() for t in threads]\n",
    "print(results)\n"
   ]
  },
  {
   "cell_type": "code",
   "execution_count": null,
   "id": "c63a0969",
   "metadata": {},
   "outputs": [],
   "source": []
  }
 ],
 "metadata": {
  "kernelspec": {
   "display_name": "Python 3 (ipykernel)",
   "language": "python",
   "name": "python3"
  },
  "language_info": {
   "codemirror_mode": {
    "name": "ipython",
    "version": 3
   },
   "file_extension": ".py",
   "mimetype": "text/x-python",
   "name": "python",
   "nbconvert_exporter": "python",
   "pygments_lexer": "ipython3",
   "version": "3.10.2"
  }
 },
 "nbformat": 4,
 "nbformat_minor": 5
}
